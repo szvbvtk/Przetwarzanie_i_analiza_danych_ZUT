{
 "cells": [
  {
   "cell_type": "code",
   "execution_count": 1,
   "metadata": {},
   "outputs": [],
   "source": [
    "import numpy as np\n",
    "import pandas as pd"
   ]
  },
  {
   "attachments": {},
   "cell_type": "markdown",
   "metadata": {},
   "source": [
    "Zadanie 1"
   ]
  },
  {
   "cell_type": "code",
   "execution_count": 2,
   "metadata": {},
   "outputs": [],
   "source": [
    "def freq(X, prob=True):\n",
    "    xi, ni = np.unique(X, return_counts=True)\n",
    "\n",
    "    if prob:\n",
    "        ni = ni / len(X)\n",
    "        # ni == pi\n",
    "    return xi, ni"
   ]
  },
  {
   "cell_type": "code",
   "execution_count": 3,
   "metadata": {},
   "outputs": [],
   "source": [
    "# X = [1, 2,2,2]\n",
    "# xi, pi = freq(X)\n",
    "# print(xi, pi)"
   ]
  },
  {
   "attachments": {},
   "cell_type": "markdown",
   "metadata": {},
   "source": [
    "Zadanie 2"
   ]
  },
  {
   "cell_type": "code",
   "execution_count": 4,
   "metadata": {},
   "outputs": [],
   "source": [
    "# def freq2(X, Y, prob=True):\n",
    "#     xy = [(xi, yi) for xi, yi in zip(X, Y)]\n",
    "\n",
    "#     xi = pd.DataFrame(xy).groupby([0, 1]).value_counts().keys().tolist()\n",
    "#     ni = pd.DataFrame(xy).groupby([0, 1]).value_counts().tolist()\n",
    "\n",
    "#     if prob:\n",
    "#         ni = [(x / len(X)) for x in ni]\n",
    "#         # ni == pi\n",
    "#     return xi, ni"
   ]
  },
  {
   "cell_type": "code",
   "execution_count": 5,
   "metadata": {},
   "outputs": [],
   "source": [
    "def freq2(X, Y, prob=True):\n",
    "    xy = [(xi, yi) for xi, yi in zip(X, Y)]\n",
    "\n",
    "    sr = pd.Series(xy).value_counts()\n",
    "    \n",
    "    if prob:\n",
    "        sr = sr / len(X)\n",
    "        # ni == pi\n",
    "\n",
    "    xi = list(sr.keys())\n",
    "    ni = sr.tolist()\n",
    "\n",
    "    return xi, ni"
   ]
  },
  {
   "cell_type": "code",
   "execution_count": 6,
   "metadata": {},
   "outputs": [],
   "source": [
    "# X = [20, 10, 20, 10, 20, 10, 20, 30]\n",
    "# Y = ['b', 'a', 'b', 'a', 'c', 'd', 'b', 'b']\n",
    "\n",
    "# xi, ni = freq2(X, Y, prob=False)\n",
    "\n",
    "# for i in zip(xi, ni):\n",
    "#     print(f\"{i[0]}: {i[1]}\")"
   ]
  },
  {
   "attachments": {},
   "cell_type": "markdown",
   "metadata": {},
   "source": [
    "Zadanie 3"
   ]
  },
  {
   "cell_type": "code",
   "execution_count": 7,
   "metadata": {},
   "outputs": [],
   "source": [
    "def entropy(P):\n",
    "    P = np.array(P)\n",
    "    h = float(np.sum(P * np.log2(1/ P)))\n",
    "    # float() żeby rozszerzenie Error Lens do VSC nie pokazywało błędu\n",
    "    return h"
   ]
  },
  {
   "cell_type": "code",
   "execution_count": 8,
   "metadata": {},
   "outputs": [],
   "source": [
    "def infogain(X, Y):\n",
    "    # (P) X_pi = freq(X)[1]\n",
    "    i = entropy(freq(X)[1]) + entropy(freq(Y)[1]) - entropy(freq2(X, Y)[1])\n",
    "    return i"
   ]
  },
  {
   "attachments": {},
   "cell_type": "markdown",
   "metadata": {},
   "source": [
    "Zadanie 4"
   ]
  },
  {
   "cell_type": "code",
   "execution_count": 9,
   "metadata": {},
   "outputs": [
    {
     "data": {
      "text/html": [
       "<div>\n",
       "<style scoped>\n",
       "    .dataframe tbody tr th:only-of-type {\n",
       "        vertical-align: middle;\n",
       "    }\n",
       "\n",
       "    .dataframe tbody tr th {\n",
       "        vertical-align: top;\n",
       "    }\n",
       "\n",
       "    .dataframe thead th {\n",
       "        text-align: right;\n",
       "    }\n",
       "</style>\n",
       "<table border=\"1\" class=\"dataframe\">\n",
       "  <thead>\n",
       "    <tr style=\"text-align: right;\">\n",
       "      <th></th>\n",
       "      <th>kolumna</th>\n",
       "      <th>entropy</th>\n",
       "      <th>infogain</th>\n",
       "    </tr>\n",
       "  </thead>\n",
       "  <tbody>\n",
       "    <tr>\n",
       "      <th>12</th>\n",
       "      <td>legs</td>\n",
       "      <td>2.033811</td>\n",
       "      <td>1.363047</td>\n",
       "    </tr>\n",
       "    <tr>\n",
       "      <th>3</th>\n",
       "      <td>milk</td>\n",
       "      <td>0.974320</td>\n",
       "      <td>0.974320</td>\n",
       "    </tr>\n",
       "    <tr>\n",
       "      <th>7</th>\n",
       "      <td>toothed</td>\n",
       "      <td>0.968587</td>\n",
       "      <td>0.865694</td>\n",
       "    </tr>\n",
       "    <tr>\n",
       "      <th>2</th>\n",
       "      <td>eggs</td>\n",
       "      <td>0.979466</td>\n",
       "      <td>0.830138</td>\n",
       "    </tr>\n",
       "    <tr>\n",
       "      <th>0</th>\n",
       "      <td>hair</td>\n",
       "      <td>0.984030</td>\n",
       "      <td>0.790675</td>\n",
       "    </tr>\n",
       "    <tr>\n",
       "      <th>1</th>\n",
       "      <td>feathers</td>\n",
       "      <td>0.717950</td>\n",
       "      <td>0.717950</td>\n",
       "    </tr>\n",
       "    <tr>\n",
       "      <th>8</th>\n",
       "      <td>backbone</td>\n",
       "      <td>0.676163</td>\n",
       "      <td>0.676163</td>\n",
       "    </tr>\n",
       "    <tr>\n",
       "      <th>9</th>\n",
       "      <td>breathes</td>\n",
       "      <td>0.737490</td>\n",
       "      <td>0.614494</td>\n",
       "    </tr>\n",
       "    <tr>\n",
       "      <th>13</th>\n",
       "      <td>tail</td>\n",
       "      <td>0.822837</td>\n",
       "      <td>0.500460</td>\n",
       "    </tr>\n",
       "    <tr>\n",
       "      <th>4</th>\n",
       "      <td>airborne</td>\n",
       "      <td>0.791066</td>\n",
       "      <td>0.469703</td>\n",
       "    </tr>\n",
       "    <tr>\n",
       "      <th>11</th>\n",
       "      <td>fins</td>\n",
       "      <td>0.653840</td>\n",
       "      <td>0.466614</td>\n",
       "    </tr>\n",
       "    <tr>\n",
       "      <th>5</th>\n",
       "      <td>aquatic</td>\n",
       "      <td>0.939685</td>\n",
       "      <td>0.389487</td>\n",
       "    </tr>\n",
       "    <tr>\n",
       "      <th>15</th>\n",
       "      <td>catsize</td>\n",
       "      <td>0.988016</td>\n",
       "      <td>0.308490</td>\n",
       "    </tr>\n",
       "    <tr>\n",
       "      <th>10</th>\n",
       "      <td>venomous</td>\n",
       "      <td>0.399382</td>\n",
       "      <td>0.133090</td>\n",
       "    </tr>\n",
       "    <tr>\n",
       "      <th>6</th>\n",
       "      <td>predator</td>\n",
       "      <td>0.991427</td>\n",
       "      <td>0.093447</td>\n",
       "    </tr>\n",
       "    <tr>\n",
       "      <th>14</th>\n",
       "      <td>domestic</td>\n",
       "      <td>0.553898</td>\n",
       "      <td>0.050669</td>\n",
       "    </tr>\n",
       "  </tbody>\n",
       "</table>\n",
       "</div>"
      ],
      "text/plain": [
       "     kolumna   entropy  infogain\n",
       "12      legs  2.033811  1.363047\n",
       "3       milk  0.974320  0.974320\n",
       "7    toothed  0.968587  0.865694\n",
       "2       eggs  0.979466  0.830138\n",
       "0       hair  0.984030  0.790675\n",
       "1   feathers  0.717950  0.717950\n",
       "8   backbone  0.676163  0.676163\n",
       "9   breathes  0.737490  0.614494\n",
       "13      tail  0.822837  0.500460\n",
       "4   airborne  0.791066  0.469703\n",
       "11      fins  0.653840  0.466614\n",
       "5    aquatic  0.939685  0.389487\n",
       "15   catsize  0.988016  0.308490\n",
       "10  venomous  0.399382  0.133090\n",
       "6   predator  0.991427  0.093447\n",
       "14  domestic  0.553898  0.050669"
      ]
     },
     "execution_count": 9,
     "metadata": {},
     "output_type": "execute_result"
    }
   ],
   "source": [
    "zoo = pd.read_csv('zoo.csv')\n",
    "\n",
    "column_names = np.empty(zoo.columns[1:-1].size, dtype=np.object_)\n",
    "entropies = np.empty(zoo.columns[1:-1].size)\n",
    "info_gains = np.empty(zoo.columns[1:-1].size)\n",
    "\n",
    "for i, col in enumerate(zoo.columns[1:-1]):\n",
    "    pi = freq(zoo[col])[1]\n",
    "    ent = entropy(pi)\n",
    "    inf = infogain(zoo[col], zoo['type'])\n",
    "\n",
    "    column_names[i] = col\n",
    "    entropies[i] = ent\n",
    "    info_gains[i] = inf\n",
    "\n",
    "df = pd.DataFrame({'kolumna': column_names, 'entropy': entropies, 'infogain': info_gains})\n",
    "# df.sort_values(by='infogain', inplace=True)\n",
    "df = df.sort_values(by='infogain', ascending=False)\n",
    "\n",
    "df"
   ]
  }
 ],
 "metadata": {
  "kernelspec": {
   "display_name": "Python 3",
   "language": "python",
   "name": "python3"
  },
  "language_info": {
   "codemirror_mode": {
    "name": "ipython",
    "version": 3
   },
   "file_extension": ".py",
   "mimetype": "text/x-python",
   "name": "python",
   "nbconvert_exporter": "python",
   "pygments_lexer": "ipython3",
   "version": "3.11.3"
  },
  "orig_nbformat": 4
 },
 "nbformat": 4,
 "nbformat_minor": 2
}
